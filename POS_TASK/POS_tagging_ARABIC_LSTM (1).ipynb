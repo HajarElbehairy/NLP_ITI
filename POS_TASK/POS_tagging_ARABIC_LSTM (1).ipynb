{
  "cells": [
    {
      "cell_type": "markdown",
      "id": "38cda26d",
      "metadata": {
        "id": "38cda26d"
      },
      "source": [
        "# Part-of-Speech (POS) in NLP\n",
        "\n",
        "**Part-of-Speech (POS)** tagging is the task of assigning each word (token) in a sentence its grammatical category:  \n",
        "  - Noun (NOUN), Verb (VERB), Adjective (ADJ), Adverb (ADV), Pronoun (PRON), …  \n",
        "  - In UD (Universal Dependencies) you often see `UPOS` (universal) vs. `XPOS` (language-specific).  \n",
        "\n",
        "Why POS tags matter:  \n",
        "  1. **Syntactic parsing** (constituency/dependency parsers)  \n",
        "  2. **Named-Entity Recognition** (NER) often uses POS as a feature  \n",
        "  3. **Chunking** (“shallow parsing”) groups adjacent POS tags into phrases  \n",
        "  4. **Machine Translation**, **Information Extraction**, **Coreference Resolution**, etc.  \n",
        "\n",
        "**Type of ML problem**  \n",
        "  - Sequence labeling / token classification: each token gets one tag  \n",
        "  - Typically trained & evaluated with accuracy or token-level F1  \n",
        "\n",
        "Below we’ll:  \n",
        "  1. Load a UD POS dataset  \n",
        "  2. Inspect its tags  \n",
        "  3. Prepare it for fine-tuning a transformer  \n",
        "  4. (Optional) Wire it up to a `Trainer` with an accuracy metric  "
      ]
    },
    {
      "cell_type": "markdown",
      "id": "eba3b46e",
      "metadata": {
        "id": "eba3b46e"
      },
      "source": [
        "##### importing libraries"
      ]
    },
    {
      "cell_type": "code",
      "source": [
        "pip install pyconll"
      ],
      "metadata": {
        "colab": {
          "base_uri": "https://localhost:8080/"
        },
        "id": "7ncKfIw8VdoL",
        "outputId": "a6b656e4-556f-4815-8182-65b733800a40"
      },
      "id": "7ncKfIw8VdoL",
      "execution_count": 21,
      "outputs": [
        {
          "output_type": "stream",
          "name": "stdout",
          "text": [
            "Requirement already satisfied: pyconll in /usr/local/lib/python3.11/dist-packages (3.2.0)\n"
          ]
        }
      ]
    },
    {
      "cell_type": "code",
      "source": [
        "pip install conllu"
      ],
      "metadata": {
        "colab": {
          "base_uri": "https://localhost:8080/"
        },
        "id": "-Q_SLTo6VrIL",
        "outputId": "553f6d48-6255-4ce3-94da-38001667f4de"
      },
      "id": "-Q_SLTo6VrIL",
      "execution_count": 22,
      "outputs": [
        {
          "output_type": "stream",
          "name": "stdout",
          "text": [
            "Requirement already satisfied: conllu in /usr/local/lib/python3.11/dist-packages (6.0.0)\n"
          ]
        }
      ]
    },
    {
      "cell_type": "code",
      "execution_count": 23,
      "id": "537f6e0e",
      "metadata": {
        "id": "537f6e0e"
      },
      "outputs": [],
      "source": [
        "import pyconll\n",
        "import csv\n",
        "import pandas as pd\n",
        "from conllu import parse_incr\n",
        "import matplotlib.pyplot as plt\n",
        "from tensorflow.keras.callbacks import EarlyStopping\n",
        "from tensorflow.keras import Model, Input\n",
        "from tensorflow.keras.layers import LSTM, Embedding, Dense\n",
        "from tensorflow.keras.layers import TimeDistributed,  Bidirectional\n",
        "from tensorflow.keras.preprocessing.sequence import pad_sequences\n",
        "import random\n",
        "from collections import defaultdict\n",
        "from collections import Counter\n",
        "import plotly.express as px\n",
        "import pandas as pd\n",
        "from sklearn.metrics import accuracy_score, classification_report, confusion_matrix, ConfusionMatrixDisplay\n",
        "from sklearn.model_selection import train_test_split"
      ]
    },
    {
      "cell_type": "markdown",
      "id": "b9aa4923",
      "metadata": {
        "id": "b9aa4923"
      },
      "source": [
        "##### load Data"
      ]
    },
    {
      "cell_type": "code",
      "execution_count": 24,
      "id": "35edfece",
      "metadata": {
        "colab": {
          "base_uri": "https://localhost:8080/"
        },
        "id": "35edfece",
        "outputId": "fabc47d8-c4ab-42c5-bdd9-fda671464176"
      },
      "outputs": [
        {
          "output_type": "execute_result",
          "data": {
            "text/plain": [
              "<pyconll.unit.conll.Conll at 0x7886568ea5d0>"
            ]
          },
          "metadata": {},
          "execution_count": 24
        }
      ],
      "source": [
        "data = pyconll.load_from_file('Arabic_POS.conllu')\n",
        "data"
      ]
    },
    {
      "cell_type": "code",
      "execution_count": 25,
      "id": "541c8985",
      "metadata": {
        "colab": {
          "base_uri": "https://localhost:8080/"
        },
        "id": "541c8985",
        "outputId": "5463180e-cdd4-4c9f-a3f8-3c167cd988c4"
      },
      "outputs": [
        {
          "output_type": "stream",
          "name": "stdout",
          "text": [
            "برلين\tX\n",
            "ترفض\tVERB\n",
            "حصول\tNOUN\n",
            "شركة\tNOUN\n",
            "اميركية\tADJ\n",
            "على\tADP\n",
            "رخصة\tNOUN\n",
            "تصنيع\tNOUN\n",
            "دبابة\tNOUN\n",
            "\"\tPUNCT\n",
            "ليوبارد\tX\n",
            "\"\tPUNCT\n",
            "الالمانية\tADJ\n"
          ]
        }
      ],
      "source": [
        "for token in data[0]:\n",
        "    print(f\"{token.form}\\t{token.upos}\")\n"
      ]
    },
    {
      "cell_type": "markdown",
      "id": "c2ea05d1",
      "metadata": {
        "id": "c2ea05d1"
      },
      "source": [
        "| POS Category   | POS Tag |\n",
        "| -------------- | ------- |\n",
        "| Noun           | NOUN    |\n",
        "| Verb           | VERB    |\n",
        "| Adjective      | ADJ     |\n",
        "| Adverb         | ADV     |\n",
        "| Pronoun        | PRON    |\n",
        "| Determiner     | DET     |\n",
        "| Preposition    | ADP     |\n",
        "| Conjunction    | CONJ    |\n",
        "| Proper Noun    | PROPN   |\n",
        "| Numeral        | NUM     |\n",
        "| Particle       | PART    |\n",
        "| Interjection   | INTJ    |\n",
        "| Auxiliary Verb | AUX     |\n",
        "| Symbol         | SYM     |\n",
        "| Punctuation    | PUNCT   |\n",
        "| Unknown/Other  | X       |\n"
      ]
    },
    {
      "cell_type": "markdown",
      "id": "3526c7cb",
      "metadata": {
        "id": "3526c7cb"
      },
      "source": [
        "![image.png](attachment:image.png)"
      ]
    },
    {
      "cell_type": "markdown",
      "id": "e16723e5",
      "metadata": {
        "id": "e16723e5"
      },
      "source": [
        "##### count each category"
      ]
    },
    {
      "cell_type": "code",
      "execution_count": 26,
      "id": "7fe5a520",
      "metadata": {
        "colab": {
          "base_uri": "https://localhost:8080/"
        },
        "id": "7fe5a520",
        "outputId": "53749638-dd8e-4919-8bed-cf74a4a81e6e"
      },
      "outputs": [
        {
          "output_type": "stream",
          "name": "stdout",
          "text": [
            "POS Tag Counts:\n",
            "X: 13747\n",
            "VERB: 16789\n",
            "NOUN: 74546\n",
            "ADJ: 23498\n",
            "ADP: 33617\n",
            "PUNCT: 17511\n",
            "NUM: 6010\n",
            "_: 30519\n",
            "PRON: 8533\n",
            "SCONJ: 4368\n",
            "CCONJ: 15803\n",
            "DET: 4648\n",
            "PART: 1709\n",
            "ADV: 880\n",
            "SYM: 329\n",
            "AUX: 1699\n",
            "PROPN: 187\n",
            "INTJ: 7\n"
          ]
        }
      ],
      "source": [
        "\n",
        "\n",
        "# Path to your file\n",
        "file_path = \"Arabic_POS.conllu\"\n",
        "\n",
        "# Counter to store POS tags\n",
        "pos_counter = Counter()\n",
        "\n",
        "# Open and read the file\n",
        "with open(file_path, \"r\", encoding=\"utf-8\") as f:\n",
        "    for line in f:\n",
        "        # Skip empty lines and comments\n",
        "        if line.strip() == \"\" or line.startswith(\"#\"):\n",
        "            continue\n",
        "        parts = line.strip().split(\"\\t\")\n",
        "        if len(parts) > 3:\n",
        "            pos = parts[3]  # UPOS is the 4th column in CoNLL-U\n",
        "            pos_counter[pos] += 1\n",
        "\n",
        "# Display the results\n",
        "print(\"POS Tag Counts:\")\n",
        "for tag, count in pos_counter.items():\n",
        "    print(f\"{tag}: {count}\")\n"
      ]
    },
    {
      "cell_type": "code",
      "execution_count": 27,
      "id": "6a9d419a",
      "metadata": {
        "colab": {
          "base_uri": "https://localhost:8080/",
          "height": 513
        },
        "id": "6a9d419a",
        "outputId": "ae37407d-2a97-461a-bc2e-5ef7418af316"
      },
      "outputs": [
        {
          "output_type": "display_data",
          "data": {
            "text/plain": [
              "<Figure size 1200x600 with 1 Axes>"
            ],
            "image/png": "[encoded data removed]"
          },
          "metadata": {}
        }
      ],
      "source": [
        "\n",
        "# POS tag counts (you provided these)\n",
        "pos_counts = {\n",
        "    \"X\": 13747,\n",
        "    \"VERB\": 16789,\n",
        "    \"NOUN\": 74546,\n",
        "    \"ADJ\": 23498,\n",
        "    \"ADP\": 33617,\n",
        "    \"PUNCT\": 17511,\n",
        "    \"NUM\": 6010,\n",
        "    \"_\": 30519,\n",
        "    \"PRON\": 8533,\n",
        "    \"SCONJ\": 4368,\n",
        "    \"CCONJ\": 15803,\n",
        "    \"DET\": 4648,\n",
        "    \"PART\": 1709,\n",
        "    \"ADV\": 880,\n",
        "    \"SYM\": 329,\n",
        "    \"AUX\": 1699,\n",
        "    \"PROPN\": 187,\n",
        "    \"INTJ\": 7\n",
        "}\n",
        "\n",
        "# Sort by count (optional)\n",
        "sorted_counts = dict(sorted(pos_counts.items(), key=lambda item: item[1], reverse=True))\n",
        "\n",
        "# Plot\n",
        "plt.figure(figsize=(12, 6))\n",
        "plt.bar(sorted_counts.keys(), sorted_counts.values(), color='skyblue')\n",
        "plt.xlabel(\"POS Tags\")\n",
        "plt.ylabel(\"Count\")\n",
        "plt.title(\"POS Tag Counts from Arabic_POS.conllud\")\n",
        "plt.xticks(rotation=45)\n",
        "plt.tight_layout()\n",
        "plt.grid(axis='y', linestyle='--', alpha=0.6)\n",
        "plt.show()\n"
      ]
    },
    {
      "cell_type": "code",
      "execution_count": 28,
      "id": "12b2b9d8",
      "metadata": {
        "colab": {
          "base_uri": "https://localhost:8080/",
          "height": 542
        },
        "id": "12b2b9d8",
        "outputId": "92c5e80f-ce0f-42ec-f530-be816a0a4fc8"
      },
      "outputs": [
        {
          "output_type": "display_data",
          "data": {
            "text/html": [
              "<html>\n",
              "<head><meta charset=\"utf-8\" /></head>\n",
              "<body>\n",
              "    <div>            <script src=\"https://cdnjs.cloudflare.com/ajax/libs/mathjax/2.7.5/MathJax.js?config=TeX-AMS-MML_SVG\"></script><script type=\"text/javascript\">if (window.MathJax && window.MathJax.Hub && window.MathJax.Hub.Config) {window.MathJax.Hub.Config({SVG: {font: \"STIX-Web\"}});}</script>                <script type=\"text/javascript\">window.PlotlyConfig = {MathJaxConfig: 'local'};</script>\n",
              "        <script charset=\"utf-8\" src=\"https://cdn.plot.ly/plotly-2.35.2.min.js\"></script>                <div id=\"d2ba614a-cf5e-44a9-9150-9a71dd0eb398\" class=\"plotly-graph-div\" style=\"height:525px; width:100%;\"></div>            <script type=\"text/javascript\">                                    window.PLOTLYENV=window.PLOTLYENV || {};                                    if (document.getElementById(\"d2ba614a-cf5e-44a9-9150-9a71dd0eb398\")) {                    Plotly.newPlot(                        \"d2ba614a-cf5e-44a9-9150-9a71dd0eb398\",                        [{\"branchvalues\":\"total\",\"customdata\":[[23498.0],[33617.0],[880.0],[1699.0],[15803.0],[4648.0],[7.0],[74546.0],[6010.0],[1709.0],[8533.0],[187.0],[17511.0],[4368.0],[329.0],[16789.0],[13747.0],[30519.0]],\"domain\":{\"x\":[0.0,1.0],\"y\":[0.0,1.0]},\"hovertemplate\":\"labels=%{label}\\u003cbr\\u003eFrequency_sum=%{value}\\u003cbr\\u003eparent=%{parent}\\u003cbr\\u003eid=%{id}\\u003cbr\\u003eFrequency=%{color}\\u003cextra\\u003e\\u003c\\u002fextra\\u003e\",\"ids\":[\"ADJ\",\"ADP\",\"ADV\",\"AUX\",\"CCONJ\",\"DET\",\"INTJ\",\"NOUN\",\"NUM\",\"PART\",\"PRON\",\"PROPN\",\"PUNCT\",\"SCONJ\",\"SYM\",\"VERB\",\"X\",\"_\"],\"labels\":[\"ADJ\",\"ADP\",\"ADV\",\"AUX\",\"CCONJ\",\"DET\",\"INTJ\",\"NOUN\",\"NUM\",\"PART\",\"PRON\",\"PROPN\",\"PUNCT\",\"SCONJ\",\"SYM\",\"VERB\",\"X\",\"_\"],\"marker\":{\"coloraxis\":\"coloraxis\",\"colors\":[23498.0,33617.0,880.0,1699.0,15803.0,4648.0,7.0,74546.0,6010.0,1709.0,8533.0,187.0,17511.0,4368.0,329.0,16789.0,13747.0,30519.0]},\"name\":\"\",\"parents\":[\"\",\"\",\"\",\"\",\"\",\"\",\"\",\"\",\"\",\"\",\"\",\"\",\"\",\"\",\"\",\"\",\"\",\"\"],\"values\":[23498,33617,880,1699,15803,4648,7,74546,6010,1709,8533,187,17511,4368,329,16789,13747,30519],\"type\":\"treemap\"}],                        {\"template\":{\"data\":{\"histogram2dcontour\":[{\"type\":\"histogram2dcontour\",\"colorbar\":{\"outlinewidth\":0,\"ticks\":\"\"},\"colorscale\":[[0.0,\"#0d0887\"],[0.1111111111111111,\"#46039f\"],[0.2222222222222222,\"#7201a8\"],[0.3333333333333333,\"#9c179e\"],[0.4444444444444444,\"#bd3786\"],[0.5555555555555556,\"#d8576b\"],[0.6666666666666666,\"#ed7953\"],[0.7777777777777778,\"#fb9f3a\"],[0.8888888888888888,\"#fdca26\"],[1.0,\"#f0f921\"]]}],\"choropleth\":[{\"type\":\"choropleth\",\"colorbar\":{\"outlinewidth\":0,\"ticks\":\"\"}}],\"histogram2d\":[{\"type\":\"histogram2d\",\"colorbar\":{\"outlinewidth\":0,\"ticks\":\"\"},\"colorscale\":[[0.0,\"#0d0887\"],[0.1111111111111111,\"#46039f\"],[0.2222222222222222,\"#7201a8\"],[0.3333333333333333,\"#9c179e\"],[0.4444444444444444,\"#bd3786\"],[0.5555555555555556,\"#d8576b\"],[0.6666666666666666,\"#ed7953\"],[0.7777777777777778,\"#fb9f3a\"],[0.8888888888888888,\"#fdca26\"],[1.0,\"#f0f921\"]]}],\"heatmap\":[{\"type\":\"heatmap\",\"colorbar\":{\"outlinewidth\":0,\"ticks\":\"\"},\"colorscale\":[[0.0,\"#0d0887\"],[0.1111111111111111,\"#46039f\"],[0.2222222222222222,\"#7201a8\"],[0.3333333333333333,\"#9c179e\"],[0.4444444444444444,\"#bd3786\"],[0.5555555555555556,\"#d8576b\"],[0.6666666666666666,\"#ed7953\"],[0.7777777777777778,\"#fb9f3a\"],[0.8888888888888888,\"#fdca26\"],[1.0,\"#f0f921\"]]}],\"heatmapgl\":[{\"type\":\"heatmapgl\",\"colorbar\":{\"outlinewidth\":0,\"ticks\":\"\"},\"colorscale\":[[0.0,\"#0d0887\"],[0.1111111111111111,\"#46039f\"],[0.2222222222222222,\"#7201a8\"],[0.3333333333333333,\"#9c179e\"],[0.4444444444444444,\"#bd3786\"],[0.5555555555555556,\"#d8576b\"],[0.6666666666666666,\"#ed7953\"],[0.7777777777777778,\"#fb9f3a\"],[0.8888888888888888,\"#fdca26\"],[1.0,\"#f0f921\"]]}],\"contourcarpet\":[{\"type\":\"contourcarpet\",\"colorbar\":{\"outlinewidth\":0,\"ticks\":\"\"}}],\"contour\":[{\"type\":\"contour\",\"colorbar\":{\"outlinewidth\":0,\"ticks\":\"\"},\"colorscale\":[[0.0,\"#0d0887\"],[0.1111111111111111,\"#46039f\"],[0.2222222222222222,\"#7201a8\"],[0.3333333333333333,\"#9c179e\"],[0.4444444444444444,\"#bd3786\"],[0.5555555555555556,\"#d8576b\"],[0.6666666666666666,\"#ed7953\"],[0.7777777777777778,\"#fb9f3a\"],[0.8888888888888888,\"#fdca26\"],[1.0,\"#f0f921\"]]}],\"surface\":[{\"type\":\"surface\",\"colorbar\":{\"outlinewidth\":0,\"ticks\":\"\"},\"colorscale\":[[0.0,\"#0d0887\"],[0.1111111111111111,\"#46039f\"],[0.2222222222222222,\"#7201a8\"],[0.3333333333333333,\"#9c179e\"],[0.4444444444444444,\"#bd3786\"],[0.5555555555555556,\"#d8576b\"],[0.6666666666666666,\"#ed7953\"],[0.7777777777777778,\"#fb9f3a\"],[0.8888888888888888,\"#fdca26\"],[1.0,\"#f0f921\"]]}],\"mesh3d\":[{\"type\":\"mesh3d\",\"colorbar\":{\"outlinewidth\":0,\"ticks\":\"\"}}],\"scatter\":[{\"fillpattern\":{\"fillmode\":\"overlay\",\"size\":10,\"solidity\":0.2},\"type\":\"scatter\"}],\"parcoords\":[{\"type\":\"parcoords\",\"line\":{\"colorbar\":{\"outlinewidth\":0,\"ticks\":\"\"}}}],\"scatterpolargl\":[{\"type\":\"scatterpolargl\",\"marker\":{\"colorbar\":{\"outlinewidth\":0,\"ticks\":\"\"}}}],\"bar\":[{\"error_x\":{\"color\":\"#2a3f5f\"},\"error_y\":{\"color\":\"#2a3f5f\"},\"marker\":{\"line\":{\"color\":\"#E5ECF6\",\"width\":0.5},\"pattern\":{\"fillmode\":\"overlay\",\"size\":10,\"solidity\":0.2}},\"type\":\"bar\"}],\"scattergeo\":[{\"type\":\"scattergeo\",\"marker\":{\"colorbar\":{\"outlinewidth\":0,\"ticks\":\"\"}}}],\"scatterpolar\":[{\"type\":\"scatterpolar\",\"marker\":{\"colorbar\":{\"outlinewidth\":0,\"ticks\":\"\"}}}],\"histogram\":[{\"marker\":{\"pattern\":{\"fillmode\":\"overlay\",\"size\":10,\"solidity\":0.2}},\"type\":\"histogram\"}],\"scattergl\":[{\"type\":\"scattergl\",\"marker\":{\"colorbar\":{\"outlinewidth\":0,\"ticks\":\"\"}}}],\"scatter3d\":[{\"type\":\"scatter3d\",\"line\":{\"colorbar\":{\"outlinewidth\":0,\"ticks\":\"\"}},\"marker\":{\"colorbar\":{\"outlinewidth\":0,\"ticks\":\"\"}}}],\"scattermapbox\":[{\"type\":\"scattermapbox\",\"marker\":{\"colorbar\":{\"outlinewidth\":0,\"ticks\":\"\"}}}],\"scatterternary\":[{\"type\":\"scatterternary\",\"marker\":{\"colorbar\":{\"outlinewidth\":0,\"ticks\":\"\"}}}],\"scattercarpet\":[{\"type\":\"scattercarpet\",\"marker\":{\"colorbar\":{\"outlinewidth\":0,\"ticks\":\"\"}}}],\"carpet\":[{\"aaxis\":{\"endlinecolor\":\"#2a3f5f\",\"gridcolor\":\"white\",\"linecolor\":\"white\",\"minorgridcolor\":\"white\",\"startlinecolor\":\"#2a3f5f\"},\"baxis\":{\"endlinecolor\":\"#2a3f5f\",\"gridcolor\":\"white\",\"linecolor\":\"white\",\"minorgridcolor\":\"white\",\"startlinecolor\":\"#2a3f5f\"},\"type\":\"carpet\"}],\"table\":[{\"cells\":{\"fill\":{\"color\":\"#EBF0F8\"},\"line\":{\"color\":\"white\"}},\"header\":{\"fill\":{\"color\":\"#C8D4E3\"},\"line\":{\"color\":\"white\"}},\"type\":\"table\"}],\"barpolar\":[{\"marker\":{\"line\":{\"color\":\"#E5ECF6\",\"width\":0.5},\"pattern\":{\"fillmode\":\"overlay\",\"size\":10,\"solidity\":0.2}},\"type\":\"barpolar\"}],\"pie\":[{\"automargin\":true,\"type\":\"pie\"}]},\"layout\":{\"autotypenumbers\":\"strict\",\"colorway\":[\"#636efa\",\"#EF553B\",\"#00cc96\",\"#ab63fa\",\"#FFA15A\",\"#19d3f3\",\"#FF6692\",\"#B6E880\",\"#FF97FF\",\"#FECB52\"],\"font\":{\"color\":\"#2a3f5f\"},\"hovermode\":\"closest\",\"hoverlabel\":{\"align\":\"left\"},\"paper_bgcolor\":\"white\",\"plot_bgcolor\":\"#E5ECF6\",\"polar\":{\"bgcolor\":\"#E5ECF6\",\"angularaxis\":{\"gridcolor\":\"white\",\"linecolor\":\"white\",\"ticks\":\"\"},\"radialaxis\":{\"gridcolor\":\"white\",\"linecolor\":\"white\",\"ticks\":\"\"}},\"ternary\":{\"bgcolor\":\"#E5ECF6\",\"aaxis\":{\"gridcolor\":\"white\",\"linecolor\":\"white\",\"ticks\":\"\"},\"baxis\":{\"gridcolor\":\"white\",\"linecolor\":\"white\",\"ticks\":\"\"},\"caxis\":{\"gridcolor\":\"white\",\"linecolor\":\"white\",\"ticks\":\"\"}},\"coloraxis\":{\"colorbar\":{\"outlinewidth\":0,\"ticks\":\"\"}},\"colorscale\":{\"sequential\":[[0.0,\"#0d0887\"],[0.1111111111111111,\"#46039f\"],[0.2222222222222222,\"#7201a8\"],[0.3333333333333333,\"#9c179e\"],[0.4444444444444444,\"#bd3786\"],[0.5555555555555556,\"#d8576b\"],[0.6666666666666666,\"#ed7953\"],[0.7777777777777778,\"#fb9f3a\"],[0.8888888888888888,\"#fdca26\"],[1.0,\"#f0f921\"]],\"sequentialminus\":[[0.0,\"#0d0887\"],[0.1111111111111111,\"#46039f\"],[0.2222222222222222,\"#7201a8\"],[0.3333333333333333,\"#9c179e\"],[0.4444444444444444,\"#bd3786\"],[0.5555555555555556,\"#d8576b\"],[0.6666666666666666,\"#ed7953\"],[0.7777777777777778,\"#fb9f3a\"],[0.8888888888888888,\"#fdca26\"],[1.0,\"#f0f921\"]],\"diverging\":[[0,\"#8e0152\"],[0.1,\"#c51b7d\"],[0.2,\"#de77ae\"],[0.3,\"#f1b6da\"],[0.4,\"#fde0ef\"],[0.5,\"#f7f7f7\"],[0.6,\"#e6f5d0\"],[0.7,\"#b8e186\"],[0.8,\"#7fbc41\"],[0.9,\"#4d9221\"],[1,\"#276419\"]]},\"xaxis\":{\"gridcolor\":\"white\",\"linecolor\":\"white\",\"ticks\":\"\",\"title\":{\"standoff\":15},\"zerolinecolor\":\"white\",\"automargin\":true,\"zerolinewidth\":2},\"yaxis\":{\"gridcolor\":\"white\",\"linecolor\":\"white\",\"ticks\":\"\",\"title\":{\"standoff\":15},\"zerolinecolor\":\"white\",\"automargin\":true,\"zerolinewidth\":2},\"scene\":{\"xaxis\":{\"backgroundcolor\":\"#E5ECF6\",\"gridcolor\":\"white\",\"linecolor\":\"white\",\"showbackground\":true,\"ticks\":\"\",\"zerolinecolor\":\"white\",\"gridwidth\":2},\"yaxis\":{\"backgroundcolor\":\"#E5ECF6\",\"gridcolor\":\"white\",\"linecolor\":\"white\",\"showbackground\":true,\"ticks\":\"\",\"zerolinecolor\":\"white\",\"gridwidth\":2},\"zaxis\":{\"backgroundcolor\":\"#E5ECF6\",\"gridcolor\":\"white\",\"linecolor\":\"white\",\"showbackground\":true,\"ticks\":\"\",\"zerolinecolor\":\"white\",\"gridwidth\":2}},\"shapedefaults\":{\"line\":{\"color\":\"#2a3f5f\"}},\"annotationdefaults\":{\"arrowcolor\":\"#2a3f5f\",\"arrowhead\":0,\"arrowwidth\":1},\"geo\":{\"bgcolor\":\"white\",\"landcolor\":\"#E5ECF6\",\"subunitcolor\":\"white\",\"showland\":true,\"showlakes\":true,\"lakecolor\":\"white\"},\"title\":{\"x\":0.05},\"mapbox\":{\"style\":\"light\"}}},\"coloraxis\":{\"colorbar\":{\"title\":{\"text\":\"Frequency\"}},\"colorscale\":[[0.0,\"rgb(247,251,255)\"],[0.125,\"rgb(222,235,247)\"],[0.25,\"rgb(198,219,239)\"],[0.375,\"rgb(158,202,225)\"],[0.5,\"rgb(107,174,214)\"],[0.625,\"rgb(66,146,198)\"],[0.75,\"rgb(33,113,181)\"],[0.875,\"rgb(8,81,156)\"],[1.0,\"rgb(8,48,107)\"]]},\"legend\":{\"tracegroupgap\":0},\"title\":{\"text\":\"POS Tag Frequency Treemap\"}},                        {\"responsive\": true}                    ).then(function(){\n",
              "                            \n",
              "var gd = document.getElementById('d2ba614a-cf5e-44a9-9150-9a71dd0eb398');\n",
              "var x = new MutationObserver(function (mutations, observer) {{\n",
              "        var display = window.getComputedStyle(gd).display;\n",
              "        if (!display || display === 'none') {{\n",
              "            console.log([gd, 'removed!']);\n",
              "            Plotly.purge(gd);\n",
              "            observer.disconnect();\n",
              "        }}\n",
              "}});\n",
              "\n",
              "// Listen for the removal of the full notebook cells\n",
              "var notebookContainer = gd.closest('#notebook-container');\n",
              "if (notebookContainer) {{\n",
              "    x.observe(notebookContainer, {childList: true});\n",
              "}}\n",
              "\n",
              "// Listen for the clearing of the current output cell\n",
              "var outputEl = gd.closest('.output');\n",
              "if (outputEl) {{\n",
              "    x.observe(outputEl, {childList: true});\n",
              "}}\n",
              "\n",
              "                        })                };                            </script>        </div>\n",
              "</body>\n",
              "</html>"
            ]
          },
          "metadata": {}
        }
      ],
      "source": [
        "\n",
        "\n",
        "# Your POS tag counts\n",
        "pos_counts = {\n",
        "    \"X\": 13747,\n",
        "    \"VERB\": 16789,\n",
        "    \"NOUN\": 74546,\n",
        "    \"ADJ\": 23498,\n",
        "    \"ADP\": 33617,\n",
        "    \"PUNCT\": 17511,\n",
        "    \"NUM\": 6010,\n",
        "    \"_\": 30519,\n",
        "    \"PRON\": 8533,\n",
        "    \"SCONJ\": 4368,\n",
        "    \"CCONJ\": 15803,\n",
        "    \"DET\": 4648,\n",
        "    \"PART\": 1709,\n",
        "    \"ADV\": 880,\n",
        "    \"SYM\": 329,\n",
        "    \"AUX\": 1699,\n",
        "    \"PROPN\": 187,\n",
        "    \"INTJ\": 7\n",
        "}\n",
        "\n",
        "# Convert to DataFrame\n",
        "df_pos = pd.DataFrame(pos_counts.items(), columns=[\"POS\", \"Frequency\"])\n",
        "\n",
        "# Create treemap\n",
        "fig = px.treemap(\n",
        "    df_pos,\n",
        "    path=['POS'],\n",
        "    values='Frequency',\n",
        "    title='POS Tag Frequency Treemap',\n",
        "    color='Frequency',\n",
        "    color_continuous_scale='blues'\n",
        ")\n",
        "\n",
        "fig.show()\n"
      ]
    },
    {
      "cell_type": "code",
      "execution_count": 29,
      "id": "139595e6",
      "metadata": {
        "colab": {
          "base_uri": "https://localhost:8080/"
        },
        "id": "139595e6",
        "outputId": "a346f228-5717-4ef1-bc9a-c6278edf9590"
      },
      "outputs": [
        {
          "output_type": "stream",
          "name": "stdout",
          "text": [
            "POS Tag Examples:\n",
            "X: برلين\n",
            "VERB: ترفض\n",
            "NOUN: حصول\n",
            "ADJ: اميركية\n",
            "ADP: على\n",
            "PUNCT: \"\n",
            "NUM: 15\n",
            "_: عددها\n",
            "PRON: ها\n",
            "SCONJ: ان\n",
            "CCONJ: و\n",
            "DET: التي\n",
            "PART: لا\n",
            "ADV: ايضا\n",
            "SYM: %\n",
            "AUX: س\n",
            "PROPN: النروج\n",
            "INTJ: مرحبا\n"
          ]
        }
      ],
      "source": [
        "\n",
        "\n",
        "# Initialize dictionary to hold one sample per POS\n",
        "pos_examples = defaultdict(str)\n",
        "\n",
        "# Read your .conllud file\n",
        "with open(\"Arabic_POS.conllu\", \"r\", encoding=\"utf-8\") as f:\n",
        "    for line in f:\n",
        "        if line.strip() == \"\" or line.startswith(\"#\"):\n",
        "            continue\n",
        "        parts = line.strip().split(\"\\t\")\n",
        "        if len(parts) >= 4:\n",
        "            word = parts[1]\n",
        "            pos = parts[3]\n",
        "            if pos not in pos_examples:\n",
        "                pos_examples[pos] = word  # store the first example for each POS\n",
        "\n",
        "# Display\n",
        "print(\"POS Tag Examples:\")\n",
        "for pos, word in pos_examples.items():\n",
        "    print(f\"{pos}: {word}\")\n"
      ]
    },
    {
      "cell_type": "markdown",
      "id": "2c4574f2",
      "metadata": {
        "id": "2c4574f2"
      },
      "source": [
        "##### present random samples of each category"
      ]
    },
    {
      "cell_type": "code",
      "execution_count": 30,
      "id": "1052c0ea",
      "metadata": {
        "colab": {
          "base_uri": "https://localhost:8080/"
        },
        "id": "1052c0ea",
        "outputId": "4548ad23-649f-41e0-ffc5-389dcb12bb5a"
      },
      "outputs": [
        {
          "output_type": "stream",
          "name": "stdout",
          "text": [
            "🔠 Random Word Samples by POS Tag:\n",
            "\n",
            "X: الداعين\n",
            "VERB: تستبعد\n",
            "NOUN: فضلا\n",
            "ADJ: واحدة\n",
            "ADP: إلى\n",
            "PUNCT: \"\n",
            "NUM: 8\n",
            "_: إليه\n",
            "PRON: نا\n",
            "SCONJ: أن\n",
            "CCONJ: و\n",
            "DET: الذى\n",
            "PART: لا\n",
            "ADV: جداً\n",
            "SYM: %\n",
            "AUX: يكون\n",
            "PROPN: بن\n",
            "INTJ: بلاش\n"
          ]
        }
      ],
      "source": [
        "\n",
        "\n",
        "# Dictionary to hold lists of words for each POS tag\n",
        "pos_words = defaultdict(list)\n",
        "\n",
        "# Read your CoNLL-U formatted file\n",
        "with open(\"Arabic_POS.conllu\", \"r\", encoding=\"utf-8\") as f:\n",
        "    for line in f:\n",
        "        if line.strip() == \"\" or line.startswith(\"#\"):\n",
        "            continue\n",
        "        parts = line.strip().split(\"\\t\")\n",
        "        if len(parts) >= 4:\n",
        "            word = parts[1]\n",
        "            pos = parts[3]\n",
        "            pos_words[pos].append(word)\n",
        "\n",
        "# Now select a random sample from each POS tag\n",
        "print(\"🔠 Random Word Samples by POS Tag:\\n\")\n",
        "for pos, words in pos_words.items():\n",
        "    sample = random.choice(words)\n",
        "    print(f\"{pos}: {sample}\")\n"
      ]
    },
    {
      "cell_type": "markdown",
      "id": "26d1cd6d",
      "metadata": {
        "id": "26d1cd6d"
      },
      "source": [
        "##### Replace x with pronoun"
      ]
    },
    {
      "cell_type": "code",
      "execution_count": 31,
      "id": "1625fbf8",
      "metadata": {
        "id": "1625fbf8"
      },
      "outputs": [],
      "source": [
        "\n",
        "\n",
        "# Read the .conllu file\n",
        "with open(\"Arabic_POS.conllu\", \"r\", encoding=\"utf-8\") as f:\n",
        "    sentences = list(parse_incr(f))\n",
        "\n",
        "# Replace 'X' POS tag with 'PROPN'\n",
        "for sentence in sentences:\n",
        "    for token in sentence:\n",
        "        if token[\"upos\"] == \"X\":\n",
        "            token[\"upos\"] = \"PROPN\"\n",
        "\n",
        "# Optional: Save the modified data back to a new .conllu file\n",
        "with open(\"Arabic_POS_fixed.conllu\", \"w\", encoding=\"utf-8\") as f:\n",
        "    for sentence in sentences:\n",
        "        f.write(sentence.serialize())\n"
      ]
    },
    {
      "cell_type": "code",
      "execution_count": 32,
      "id": "fcffb010",
      "metadata": {
        "colab": {
          "base_uri": "https://localhost:8080/"
        },
        "id": "fcffb010",
        "outputId": "a696d670-a21e-462e-807a-6d263f2e20d5"
      },
      "outputs": [
        {
          "output_type": "stream",
          "name": "stdout",
          "text": [
            "POS Tag Counts:\n",
            "PROPN: 13934\n",
            "VERB: 16789\n",
            "NOUN: 74546\n",
            "ADJ: 23498\n",
            "ADP: 33617\n",
            "PUNCT: 17511\n",
            "NUM: 6010\n",
            "_: 30519\n",
            "PRON: 8533\n",
            "SCONJ: 4368\n",
            "CCONJ: 15803\n",
            "DET: 4648\n",
            "PART: 1709\n",
            "ADV: 880\n",
            "SYM: 329\n",
            "AUX: 1699\n",
            "INTJ: 7\n"
          ]
        }
      ],
      "source": [
        "\n",
        "\n",
        "# Path to your file\n",
        "file_path = \"Arabic_POS_fixed.conllu\"\n",
        "\n",
        "# Counter to store POS tags\n",
        "pos_counter = Counter()\n",
        "\n",
        "# Open and read the file\n",
        "with open(file_path, \"r\", encoding=\"utf-8\") as f:\n",
        "    for line in f:\n",
        "        # Skip empty lines and comments\n",
        "        if line.strip() == \"\" or line.startswith(\"#\"):\n",
        "            continue\n",
        "        parts = line.strip().split(\"\\t\")\n",
        "        if len(parts) > 3:\n",
        "            pos = parts[3]  # UPOS is the 4th column in CoNLL-U\n",
        "            pos_counter[pos] += 1\n",
        "\n",
        "# Display the results\n",
        "print(\"POS Tag Counts:\")\n",
        "for tag, count in pos_counter.items():\n",
        "    print(f\"{tag}: {count}\")\n"
      ]
    },
    {
      "cell_type": "markdown",
      "id": "b3301e7c",
      "metadata": {
        "id": "b3301e7c"
      },
      "source": [
        "##### lemattization using built in function"
      ]
    },
    {
      "cell_type": "code",
      "execution_count": 33,
      "metadata": {
        "colab": {
          "base_uri": "https://localhost:8080/"
        },
        "id": "sAEJhuQHVUSg",
        "outputId": "3896e73b-0678-4637-c6ae-a6c688728042"
      },
      "outputs": [
        {
          "output_type": "stream",
          "name": "stdout",
          "text": [
            "Word: بالنسبة\n",
            "Segments: ['بال', 'نسب', 'ة']\n",
            "POS tags: ['PREP+DET', 'STEM', 'NOUN_SUFFIX']\n",
            "Word type: UNKNOWN\n",
            "\n",
            "Word: أنه\n",
            "Segments: ['أ', 'ن', 'ه']\n",
            "POS tags: ['PART', 'STEM', 'PRON']\n",
            "Word type: UNKNOWN\n",
            "\n",
            "Word: بقيمة\n",
            "Segments: ['ب', 'قيم', 'ة']\n",
            "POS tags: ['PREP', 'STEM', 'NOUN_SUFFIX']\n",
            "Word type: UNKNOWN\n",
            "\n"
          ]
        }
      ],
      "source": [
        "def categorize_arabic_word_simple(word):\n",
        "    \"\"\"\n",
        "    Categorize complex Arabic words using simple rule-based approach\n",
        "\n",
        "    Args:\n",
        "        word: An Arabic word string like بالنسبة\n",
        "\n",
        "    Returns:\n",
        "        A dictionary with the original word, its potential segments, and rough category\n",
        "    \"\"\"\n",
        "    # Define common prefixes\n",
        "    prefixes = {\n",
        "        'ب': 'PREP',  # bi (with/by)\n",
        "        'ل': 'PREP',  # li (for/to)\n",
        "        'ك': 'PREP',  # ka (like/as)\n",
        "        'و': 'CONJ',  # wa (and)\n",
        "        'ف': 'CONJ',  # fa (so/then)\n",
        "        'ال': 'DET',  # al (the)\n",
        "        'لل': 'PREP+DET',  # li+al (for the)\n",
        "        'بال': 'PREP+DET',  # bi+al (with the)\n",
        "        'وال': 'CONJ+DET',  # wa+al (and the)\n",
        "        'فال': 'CONJ+DET',  # fa+al (so the)\n",
        "        'أ': 'PART',  # interrogative particle\n",
        "        'س': 'PART',  # future marker\n",
        "        'است': 'VERB_PREFIX'  # causative/reflexive verb form\n",
        "    }\n",
        "\n",
        "    # Define common suffixes\n",
        "    suffixes = {\n",
        "        'ه': 'PRON',  # hu (his/him/it)\n",
        "        'ها': 'PRON',  # ha (her/it)\n",
        "        'هم': 'PRON',  # hum (their/them)\n",
        "        'ي': 'PRON',  # i/y (my/me)\n",
        "        'ك': 'PRON',  # ka (your-masc)\n",
        "        'كِ': 'PRON',  # ki (your-fem)\n",
        "        'نا': 'PRON',  # na (our/us)\n",
        "        'ون': 'NOUN_SUFFIX',  # un (masculine plural)\n",
        "        'ات': 'NOUN_SUFFIX',  # at (feminine plural)\n",
        "        'ين': 'NOUN_SUFFIX',  # in (masculine plural/dual)\n",
        "        'ان': 'NOUN_SUFFIX',  # an (dual)\n",
        "        'ة': 'NOUN_SUFFIX'  # ta marbouta (feminine marker)\n",
        "    }\n",
        "\n",
        "    segments = []\n",
        "    pos_tags = []\n",
        "    word_type = \"UNKNOWN\"\n",
        "\n",
        "    # Check for prefixes\n",
        "    found_prefix = False\n",
        "    for prefix, pos in sorted(prefixes.items(), key=lambda x: len(x[0]), reverse=True):\n",
        "        if word.startswith(prefix) and len(word) > len(prefix):\n",
        "            segments.append(prefix)\n",
        "            pos_tags.append(pos)\n",
        "            remaining = word[len(prefix):]\n",
        "            segments.append(remaining)\n",
        "            found_prefix = True\n",
        "            break\n",
        "\n",
        "    # If no prefix was found, add the whole word\n",
        "    if not found_prefix:\n",
        "        segments.append(word)\n",
        "\n",
        "    # Check for suffixes in the last segment\n",
        "    last_segment = segments[-1]\n",
        "    for suffix, pos in sorted(suffixes.items(), key=lambda x: len(x[0]), reverse=True):\n",
        "        if last_segment.endswith(suffix) and len(last_segment) > len(suffix):\n",
        "            stem = last_segment[:-len(suffix)]\n",
        "            segments[-1] = stem\n",
        "            segments.append(suffix)\n",
        "            pos_tags.append(\"STEM\")\n",
        "            pos_tags.append(pos)\n",
        "            break\n",
        "\n",
        "    # If no POS tags were assigned yet (no suffixes found)\n",
        "    if len(pos_tags) < len(segments):\n",
        "        # Try to determine the word type based on patterns\n",
        "        last_segment = segments[-1]\n",
        "\n",
        "        # Some basic word categorization rules\n",
        "        if word.startswith('ب') or word.startswith('ل') or word.startswith('ك'):\n",
        "            word_type = \"PREP_PHRASE\"\n",
        "        elif word.startswith('و') or word.startswith('ف'):\n",
        "            word_type = \"CONJ_PHRASE\"\n",
        "        elif 'أن' in word or word.startswith('أن'):\n",
        "            word_type = \"COMPLEMENTIZER\"\n",
        "        elif 'ال' in word:\n",
        "            word_type = \"DEF_NOUN\"\n",
        "        else:\n",
        "            word_type = \"NOUN\"  # Default assumption\n",
        "\n",
        "        # Fill in missing POS tags\n",
        "        while len(pos_tags) < len(segments):\n",
        "            pos_tags.append(\"STEM\")\n",
        "\n",
        "    return {\n",
        "        \"word\": word,\n",
        "        \"segments\": segments,\n",
        "        \"pos_tags\": pos_tags,\n",
        "        \"word_type\": word_type\n",
        "    }\n",
        "\n",
        "# Example usage\n",
        "example_words = [\"بالنسبة\", \"أنه\", \"بقيمة\"]\n",
        "for word in example_words:\n",
        "    result = categorize_arabic_word_simple(word)\n",
        "    print(f\"Word: {result['word']}\")\n",
        "    print(f\"Segments: {result['segments']}\")\n",
        "    print(f\"POS tags: {result['pos_tags']}\")\n",
        "    print(f\"Word type: {result['word_type']}\")\n",
        "    print()"
      ],
      "id": "sAEJhuQHVUSg"
    },
    {
      "cell_type": "code",
      "execution_count": 34,
      "metadata": {
        "id": "AbhaGb2UVUSh"
      },
      "outputs": [],
      "source": [
        "input_path = \"Arabic_POS_fixed.conllu\"\n",
        "output_path = \"Arabic_POS_updated.conllu\"\n",
        "\n",
        "with open(input_path, \"r\", encoding=\"utf-8\") as f:\n",
        "    sentences = list(parse_incr(f))\n",
        "\n",
        "# Step 3: Replace upos '_' using the custom categorizer\n",
        "for sentence in sentences:\n",
        "    for token in sentence:\n",
        "        if token[\"upos\"] == \"_\":\n",
        "            analyzed = categorize_arabic_word_simple(token[\"form\"])  # Use the actual word\n",
        "            # Use the last tag (most specific), or any logic you prefer\n",
        "            token[\"upos\"] = analyzed[\"pos_tags\"][-1] if analyzed[\"pos_tags\"] else \"STEM\"\n",
        "\n",
        "# Step 4: Save the updated data to a new .conllu file\n",
        "with open(output_path, \"w\", encoding=\"utf-8\") as f:\n",
        "    for sentence in sentences:\n",
        "        f.write(sentence.serialize())"
      ],
      "id": "AbhaGb2UVUSh"
    },
    {
      "cell_type": "code",
      "execution_count": 35,
      "id": "c10bcbaa",
      "metadata": {
        "colab": {
          "base_uri": "https://localhost:8080/"
        },
        "id": "c10bcbaa",
        "outputId": "b413a9ec-1d44-4d42-992a-78710551560e"
      },
      "outputs": [
        {
          "output_type": "stream",
          "name": "stdout",
          "text": [
            "POS Tag Counts:\n",
            "PROPN: 13934\n",
            "VERB: 16789\n",
            "NOUN: 74546\n",
            "ADJ: 23498\n",
            "ADP: 33617\n",
            "PUNCT: 17511\n",
            "NUM: 6010\n",
            "PRON: 17169\n",
            "SCONJ: 4368\n",
            "STEM: 15944\n",
            "NOUN_SUFFIX: 5939\n",
            "CCONJ: 15803\n",
            "DET: 4648\n",
            "PART: 1709\n",
            "ADV: 880\n",
            "SYM: 329\n",
            "AUX: 1699\n",
            "INTJ: 7\n"
          ]
        }
      ],
      "source": [
        "\n",
        "\n",
        "# Path to your file\n",
        "file_path = \"Arabic_POS_updated.conllu\"\n",
        "\n",
        "# Counter to store POS tags\n",
        "pos_counter = Counter()\n",
        "\n",
        "# Open and read the file\n",
        "with open(file_path, \"r\", encoding=\"utf-8\") as f:\n",
        "    for line in f:\n",
        "        # Skip empty lines and comments\n",
        "        if line.strip() == \"\" or line.startswith(\"#\"):\n",
        "            continue\n",
        "        parts = line.strip().split(\"\\t\")\n",
        "        if len(parts) > 3:\n",
        "            pos = parts[3]  # UPOS is the 4th column in CoNLL-U\n",
        "            pos_counter[pos] += 1\n",
        "\n",
        "# Display the results\n",
        "print(\"POS Tag Counts:\")\n",
        "for tag, count in pos_counter.items():\n",
        "    print(f\"{tag}: {count}\")\n"
      ]
    },
    {
      "cell_type": "code",
      "execution_count": 36,
      "id": "45346dd1",
      "metadata": {
        "colab": {
          "base_uri": "https://localhost:8080/"
        },
        "id": "45346dd1",
        "outputId": "998fe8e8-3fbd-49a4-ec52-943958ad3f63"
      },
      "outputs": [
        {
          "output_type": "execute_result",
          "data": {
            "text/plain": [
              "<pyconll.unit.conll.Conll at 0x7885d5168d90>"
            ]
          },
          "metadata": {},
          "execution_count": 36
        }
      ],
      "source": [
        "data_ = pyconll.load_from_file('Arabic_POS_updated.conllu')\n",
        "data_"
      ]
    },
    {
      "cell_type": "code",
      "execution_count": 37,
      "metadata": {
        "id": "gTNjaaHyVUSj"
      },
      "outputs": [],
      "source": [
        "# Prepare the dataset\n",
        "sentences = []\n",
        "labels = []\n",
        "\n",
        "for sentence in data_:\n",
        "    words = []\n",
        "    tags = []\n",
        "    for token in sentence:\n",
        "        if token.upos:\n",
        "            words.append(token.form)\n",
        "            tags.append(token.upos)\n",
        "    if words:\n",
        "        sentences.append(words)\n",
        "        labels.append(tags)\n"
      ],
      "id": "gTNjaaHyVUSj"
    },
    {
      "cell_type": "code",
      "execution_count": 38,
      "id": "dc2d4db2",
      "metadata": {
        "colab": {
          "base_uri": "https://localhost:8080/"
        },
        "id": "dc2d4db2",
        "outputId": "81d43036-f043-46ba-ee94-89191d082d3a"
      },
      "outputs": [
        {
          "output_type": "stream",
          "name": "stdout",
          "text": [
            "['برلين', 'ترفض', 'حصول', 'شركة', 'اميركية', 'على', 'رخصة', 'تصنيع', 'دبابة', '\"', 'ليوبارد', '\"', 'الالمانية']\n",
            "['PROPN', 'VERB', 'NOUN', 'NOUN', 'ADJ', 'ADP', 'NOUN', 'NOUN', 'NOUN', 'PUNCT', 'PROPN', 'PUNCT', 'ADJ']\n"
          ]
        }
      ],
      "source": [
        "print(sentences[0])\n",
        "print(labels[0])"
      ]
    },
    {
      "cell_type": "code",
      "execution_count": 39,
      "metadata": {
        "id": "pj6JP0GrVUSj"
      },
      "outputs": [],
      "source": [
        "\n",
        "# Read and parse correctly\n",
        "with open(\"Arabic_POS_updated.conllu\", \"r\", encoding=\"utf-8\") as f:\n",
        "    sentences = list(parse_incr(f))  # Ensures we have proper sentence objects\n",
        "\n",
        "# Safely extract all words and tags\n",
        "all_words = set()\n",
        "all_tags = set()\n",
        "\n",
        "for sentence in sentences:\n",
        "    for token in sentence:\n",
        "        if isinstance(token, dict):  # make sure it's a real token\n",
        "            all_words.add(token.get(\"form\", \"\"))\n",
        "            all_tags.add(token.get(\"upos\", \"\"))\n",
        "\n",
        "# Build mappings\n",
        "word2idx = {w: i + 1 for i, w in enumerate(sorted(all_words))}  # +1 for padding\n",
        "tag2idx = {t: i for i, t in enumerate(sorted(all_tags))}\n"
      ],
      "id": "pj6JP0GrVUSj"
    },
    {
      "cell_type": "code",
      "execution_count": 40,
      "id": "a9449874",
      "metadata": {
        "colab": {
          "base_uri": "https://localhost:8080/"
        },
        "id": "a9449874",
        "outputId": "d5938d34-975c-4a8e-8b62-965bb02b44d2"
      },
      "outputs": [
        {
          "output_type": "stream",
          "name": "stdout",
          "text": [
            "33496\n",
            "18\n"
          ]
        }
      ],
      "source": [
        "print(len(word2idx))\n",
        "print(len(tag2idx))"
      ]
    },
    {
      "cell_type": "markdown",
      "id": "931e593d",
      "metadata": {
        "id": "931e593d"
      },
      "source": [
        "##### USING BILSTM"
      ]
    },
    {
      "cell_type": "code",
      "execution_count": 41,
      "metadata": {
        "id": "x6TfL-dAVUSk"
      },
      "outputs": [],
      "source": [
        "\n",
        "\n",
        "# Prepare data sequences\n",
        "X = []  # word index sequences\n",
        "y = []  # tag index sequences\n",
        "\n",
        "for sentence in sentences:\n",
        "    word_ids = []\n",
        "    tag_ids = []\n",
        "    for token in sentence:\n",
        "        if isinstance(token, dict):\n",
        "            word = token.get(\"form\", \"\")\n",
        "            tag = token.get(\"upos\", \"\")\n",
        "\n",
        "            word_ids.append(word2idx.get(word, word2idx.get(\"UNK\", 0)))\n",
        "            tag_ids.append(tag2idx.get(tag, -1))  # -1 or tag2idx[\"PAD\"]\n",
        "\n",
        "    X.append(word_ids)\n",
        "    y.append(tag_ids)\n"
      ],
      "id": "x6TfL-dAVUSk"
    },
    {
      "cell_type": "code",
      "execution_count": 42,
      "id": "2e343cec",
      "metadata": {
        "id": "2e343cec"
      },
      "outputs": [],
      "source": [
        "X_train, X_test, y_train, y_test = train_test_split(X, y, test_size=0.15, random_state=42)\n"
      ]
    },
    {
      "cell_type": "code",
      "execution_count": 43,
      "metadata": {
        "id": "UMQwueGeVUSl"
      },
      "outputs": [],
      "source": [
        "\n",
        "\n",
        "max_len = max(len(seq) for seq in X)  # or choose a fixed max length\n",
        "\n",
        "X_train_padded = pad_sequences(X_train, maxlen=max_len, padding='post')\n",
        "X_test_padded = pad_sequences(X_test, maxlen=max_len, padding='post')\n",
        "y_train_padded = pad_sequences(y_train, maxlen=max_len, padding='post')\n",
        "y_test_padded = pad_sequences(y_test, maxlen=max_len, padding='post')\n"
      ],
      "id": "UMQwueGeVUSl"
    },
    {
      "cell_type": "code",
      "execution_count": 44,
      "metadata": {
        "colab": {
          "base_uri": "https://localhost:8080/",
          "height": 334
        },
        "id": "eLRobfICVUSl",
        "outputId": "e0ce485d-e786-4f6f-d9e6-5c4ed1e1add4"
      },
      "outputs": [
        {
          "output_type": "stream",
          "name": "stderr",
          "text": [
            "/usr/local/lib/python3.11/dist-packages/keras/src/layers/core/embedding.py:90: UserWarning:\n",
            "\n",
            "Argument `input_length` is deprecated. Just remove it.\n",
            "\n"
          ]
        },
        {
          "output_type": "display_data",
          "data": {
            "text/plain": [
              "\u001b[1mModel: \"functional\"\u001b[0m\n"
            ],
            "text/html": [
              "<pre style=\"white-space:pre;overflow-x:auto;line-height:normal;font-family:Menlo,'DejaVu Sans Mono',consolas,'Courier New',monospace\"><span style=\"font-weight: bold\">Model: \"functional\"</span>\n",
              "</pre>\n"
            ]
          },
          "metadata": {}
        },
        {
          "output_type": "display_data",
          "data": {
            "text/plain": [
              "┏━━━━━━━━━━━━━━━━━━━━━━━━━━━━━━━━━━━━━━┳━━━━━━━━━━━━━━━━━━━━━━━━━━━━━┳━━━━━━━━━━━━━━━━━┓\n",
              "┃\u001b[1m \u001b[0m\u001b[1mLayer (type)                        \u001b[0m\u001b[1m \u001b[0m┃\u001b[1m \u001b[0m\u001b[1mOutput Shape               \u001b[0m\u001b[1m \u001b[0m┃\u001b[1m \u001b[0m\u001b[1m        Param #\u001b[0m\u001b[1m \u001b[0m┃\n",
              "┡━━━━━━━━━━━━━━━━━━━━━━━━━━━━━━━━━━━━━━╇━━━━━━━━━━━━━━━━━━━━━━━━━━━━━╇━━━━━━━━━━━━━━━━━┩\n",
              "│ input_layer (\u001b[38;5;33mInputLayer\u001b[0m)             │ (\u001b[38;5;45mNone\u001b[0m, \u001b[38;5;34m478\u001b[0m)                 │               \u001b[38;5;34m0\u001b[0m │\n",
              "├──────────────────────────────────────┼─────────────────────────────┼─────────────────┤\n",
              "│ embedding (\u001b[38;5;33mEmbedding\u001b[0m)                │ (\u001b[38;5;45mNone\u001b[0m, \u001b[38;5;34m478\u001b[0m, \u001b[38;5;34m50\u001b[0m)             │       \u001b[38;5;34m2,500,000\u001b[0m │\n",
              "├──────────────────────────────────────┼─────────────────────────────┼─────────────────┤\n",
              "│ bidirectional (\u001b[38;5;33mBidirectional\u001b[0m)        │ (\u001b[38;5;45mNone\u001b[0m, \u001b[38;5;34m478\u001b[0m, \u001b[38;5;34m200\u001b[0m)            │         \u001b[38;5;34m120,800\u001b[0m │\n",
              "├──────────────────────────────────────┼─────────────────────────────┼─────────────────┤\n",
              "│ time_distributed (\u001b[38;5;33mTimeDistributed\u001b[0m)   │ (\u001b[38;5;45mNone\u001b[0m, \u001b[38;5;34m478\u001b[0m, \u001b[38;5;34m18\u001b[0m)             │           \u001b[38;5;34m3,618\u001b[0m │\n",
              "└──────────────────────────────────────┴─────────────────────────────┴─────────────────┘\n"
            ],
            "text/html": [
              "<pre style=\"white-space:pre;overflow-x:auto;line-height:normal;font-family:Menlo,'DejaVu Sans Mono',consolas,'Courier New',monospace\">┏━━━━━━━━━━━━━━━━━━━━━━━━━━━━━━━━━━━━━━┳━━━━━━━━━━━━━━━━━━━━━━━━━━━━━┳━━━━━━━━━━━━━━━━━┓\n",
              "┃<span style=\"font-weight: bold\"> Layer (type)                         </span>┃<span style=\"font-weight: bold\"> Output Shape                </span>┃<span style=\"font-weight: bold\">         Param # </span>┃\n",
              "┡━━━━━━━━━━━━━━━━━━━━━━━━━━━━━━━━━━━━━━╇━━━━━━━━━━━━━━━━━━━━━━━━━━━━━╇━━━━━━━━━━━━━━━━━┩\n",
              "│ input_layer (<span style=\"color: #0087ff; text-decoration-color: #0087ff\">InputLayer</span>)             │ (<span style=\"color: #00d7ff; text-decoration-color: #00d7ff\">None</span>, <span style=\"color: #00af00; text-decoration-color: #00af00\">478</span>)                 │               <span style=\"color: #00af00; text-decoration-color: #00af00\">0</span> │\n",
              "├──────────────────────────────────────┼─────────────────────────────┼─────────────────┤\n",
              "│ embedding (<span style=\"color: #0087ff; text-decoration-color: #0087ff\">Embedding</span>)                │ (<span style=\"color: #00d7ff; text-decoration-color: #00d7ff\">None</span>, <span style=\"color: #00af00; text-decoration-color: #00af00\">478</span>, <span style=\"color: #00af00; text-decoration-color: #00af00\">50</span>)             │       <span style=\"color: #00af00; text-decoration-color: #00af00\">2,500,000</span> │\n",
              "├──────────────────────────────────────┼─────────────────────────────┼─────────────────┤\n",
              "│ bidirectional (<span style=\"color: #0087ff; text-decoration-color: #0087ff\">Bidirectional</span>)        │ (<span style=\"color: #00d7ff; text-decoration-color: #00d7ff\">None</span>, <span style=\"color: #00af00; text-decoration-color: #00af00\">478</span>, <span style=\"color: #00af00; text-decoration-color: #00af00\">200</span>)            │         <span style=\"color: #00af00; text-decoration-color: #00af00\">120,800</span> │\n",
              "├──────────────────────────────────────┼─────────────────────────────┼─────────────────┤\n",
              "│ time_distributed (<span style=\"color: #0087ff; text-decoration-color: #0087ff\">TimeDistributed</span>)   │ (<span style=\"color: #00d7ff; text-decoration-color: #00d7ff\">None</span>, <span style=\"color: #00af00; text-decoration-color: #00af00\">478</span>, <span style=\"color: #00af00; text-decoration-color: #00af00\">18</span>)             │           <span style=\"color: #00af00; text-decoration-color: #00af00\">3,618</span> │\n",
              "└──────────────────────────────────────┴─────────────────────────────┴─────────────────┘\n",
              "</pre>\n"
            ]
          },
          "metadata": {}
        },
        {
          "output_type": "display_data",
          "data": {
            "text/plain": [
              "\u001b[1m Total params: \u001b[0m\u001b[38;5;34m2,624,418\u001b[0m (10.01 MB)\n"
            ],
            "text/html": [
              "<pre style=\"white-space:pre;overflow-x:auto;line-height:normal;font-family:Menlo,'DejaVu Sans Mono',consolas,'Courier New',monospace\"><span style=\"font-weight: bold\"> Total params: </span><span style=\"color: #00af00; text-decoration-color: #00af00\">2,624,418</span> (10.01 MB)\n",
              "</pre>\n"
            ]
          },
          "metadata": {}
        },
        {
          "output_type": "display_data",
          "data": {
            "text/plain": [
              "\u001b[1m Trainable params: \u001b[0m\u001b[38;5;34m2,624,418\u001b[0m (10.01 MB)\n"
            ],
            "text/html": [
              "<pre style=\"white-space:pre;overflow-x:auto;line-height:normal;font-family:Menlo,'DejaVu Sans Mono',consolas,'Courier New',monospace\"><span style=\"font-weight: bold\"> Trainable params: </span><span style=\"color: #00af00; text-decoration-color: #00af00\">2,624,418</span> (10.01 MB)\n",
              "</pre>\n"
            ]
          },
          "metadata": {}
        },
        {
          "output_type": "display_data",
          "data": {
            "text/plain": [
              "\u001b[1m Non-trainable params: \u001b[0m\u001b[38;5;34m0\u001b[0m (0.00 B)\n"
            ],
            "text/html": [
              "<pre style=\"white-space:pre;overflow-x:auto;line-height:normal;font-family:Menlo,'DejaVu Sans Mono',consolas,'Courier New',monospace\"><span style=\"font-weight: bold\"> Non-trainable params: </span><span style=\"color: #00af00; text-decoration-color: #00af00\">0</span> (0.00 B)\n",
              "</pre>\n"
            ]
          },
          "metadata": {}
        }
      ],
      "source": [
        "input_word = Input(shape=(max_len,))\n",
        "model = Embedding(input_dim=50000, output_dim=50, input_length=max_len)(input_word)\n",
        "model = Bidirectional(LSTM(units=100, return_sequences=True, recurrent_dropout=0.1))(model)\n",
        "out = TimeDistributed(Dense(18, activation=\"softmax\"))(model)\n",
        "model = Model(input_word, out)\n",
        "model.summary()"
      ],
      "id": "eLRobfICVUSl"
    },
    {
      "cell_type": "code",
      "execution_count": 45,
      "id": "e5e3d1cc",
      "metadata": {
        "id": "e5e3d1cc"
      },
      "outputs": [],
      "source": [
        "model.compile(optimizer=\"adam\",\n",
        "              loss=\"sparse_categorical_crossentropy\",\n",
        "              metrics=[\"accuracy\"])"
      ]
    },
    {
      "cell_type": "code",
      "execution_count": 46,
      "metadata": {
        "colab": {
          "base_uri": "https://localhost:8080/"
        },
        "id": "KlJKUa2FVUSm",
        "outputId": "d8b28302-37e4-45fb-873d-a834e4987a0b"
      },
      "outputs": [
        {
          "output_type": "stream",
          "name": "stdout",
          "text": [
            "Epoch 1/8\n",
            "\u001b[1m162/162\u001b[0m \u001b[32m━━━━━━━━━━━━━━━━━━━━\u001b[0m\u001b[37m\u001b[0m \u001b[1m453s\u001b[0m 3s/step - accuracy: 0.9257 - loss: 0.4454 - val_accuracy: 0.9546 - val_loss: 0.1547\n",
            "Epoch 2/8\n",
            "\u001b[1m162/162\u001b[0m \u001b[32m━━━━━━━━━━━━━━━━━━━━\u001b[0m\u001b[37m\u001b[0m \u001b[1m438s\u001b[0m 3s/step - accuracy: 0.9640 - loss: 0.1224 - val_accuracy: 0.9802 - val_loss: 0.0636\n",
            "Epoch 3/8\n",
            "\u001b[1m162/162\u001b[0m \u001b[32m━━━━━━━━━━━━━━━━━━━━\u001b[0m\u001b[37m\u001b[0m \u001b[1m443s\u001b[0m 3s/step - accuracy: 0.9843 - loss: 0.0524 - val_accuracy: 0.9904 - val_loss: 0.0342\n",
            "Epoch 4/8\n",
            "\u001b[1m162/162\u001b[0m \u001b[32m━━━━━━━━━━━━━━━━━━━━\u001b[0m\u001b[37m\u001b[0m \u001b[1m429s\u001b[0m 3s/step - accuracy: 0.9934 - loss: 0.0265 - val_accuracy: 0.9934 - val_loss: 0.0235\n",
            "Epoch 5/8\n",
            "\u001b[1m162/162\u001b[0m \u001b[32m━━━━━━━━━━━━━━━━━━━━\u001b[0m\u001b[37m\u001b[0m \u001b[1m425s\u001b[0m 3s/step - accuracy: 0.9965 - loss: 0.0159 - val_accuracy: 0.9942 - val_loss: 0.0192\n",
            "Epoch 6/8\n",
            "\u001b[1m162/162\u001b[0m \u001b[32m━━━━━━━━━━━━━━━━━━━━\u001b[0m\u001b[37m\u001b[0m \u001b[1m423s\u001b[0m 3s/step - accuracy: 0.9976 - loss: 0.0104 - val_accuracy: 0.9946 - val_loss: 0.0172\n",
            "Epoch 7/8\n",
            "\u001b[1m162/162\u001b[0m \u001b[32m━━━━━━━━━━━━━━━━━━━━\u001b[0m\u001b[37m\u001b[0m \u001b[1m441s\u001b[0m 3s/step - accuracy: 0.9982 - loss: 0.0076 - val_accuracy: 0.9948 - val_loss: 0.0162\n",
            "Epoch 8/8\n",
            "\u001b[1m162/162\u001b[0m \u001b[32m━━━━━━━━━━━━━━━━━━━━\u001b[0m\u001b[37m\u001b[0m \u001b[1m426s\u001b[0m 3s/step - accuracy: 0.9984 - loss: 0.0063 - val_accuracy: 0.9948 - val_loss: 0.0159\n"
          ]
        }
      ],
      "source": [
        "early_stopping = EarlyStopping(monitor='val_accuracy', patience=3,  restore_best_weights=True)\n",
        "\n",
        "callbacks = [early_stopping]\n",
        "\n",
        "history = model.fit(\n",
        "    x=X_train_padded,\n",
        "    y=y_train_padded,\n",
        "    validation_data=(X_test_padded,y_test_padded),\n",
        "    batch_size=32,\n",
        "    epochs=8,\n",
        "    callbacks=callbacks)\n"
      ],
      "id": "KlJKUa2FVUSm"
    },
    {
      "cell_type": "markdown",
      "id": "6074de04",
      "metadata": {
        "id": "6074de04"
      },
      "source": [
        "##### evaluation"
      ]
    },
    {
      "cell_type": "code",
      "execution_count": 47,
      "id": "4e393f2b",
      "metadata": {
        "id": "4e393f2b",
        "colab": {
          "base_uri": "https://localhost:8080/",
          "height": 487
        },
        "outputId": "8d60eed0-083a-45a2-a3ad-168a61723f47"
      },
      "outputs": [
        {
          "output_type": "display_data",
          "data": {
            "text/plain": [
              "<Figure size 800x500 with 1 Axes>"
            ],
            "image/png": "[encoded data removed]"
          },
          "metadata": {}
        }
      ],
      "source": [
        "\n",
        "\n",
        "\n",
        "plt.figure(figsize=(8, 5))\n",
        "plt.plot(history.history['accuracy'], label='Training Accuracy')\n",
        "plt.plot(history.history['val_accuracy'], label='Validation Accuracy')\n",
        "plt.xlabel('Epoch')\n",
        "plt.ylabel('Accuracy')\n",
        "plt.title('Training vs Validation Accuracy')\n",
        "plt.legend()\n",
        "plt.grid(True)\n",
        "plt.show()\n"
      ]
    },
    {
      "cell_type": "code",
      "execution_count": 48,
      "id": "8cdf8c95",
      "metadata": {
        "id": "8cdf8c95",
        "colab": {
          "base_uri": "https://localhost:8080/"
        },
        "outputId": "8b75725d-de09-4360-ca98-be01f7c8bc8a"
      },
      "outputs": [
        {
          "output_type": "stream",
          "name": "stdout",
          "text": [
            "\u001b[1m29/29\u001b[0m \u001b[32m━━━━━━━━━━━━━━━━━━━━\u001b[0m\u001b[37m\u001b[0m \u001b[1m25s\u001b[0m 684ms/step\n"
          ]
        }
      ],
      "source": [
        "y_pred=model.predict(X_test_padded)"
      ]
    },
    {
      "cell_type": "code",
      "execution_count": null,
      "id": "6f886a75",
      "metadata": {
        "id": "6f886a75"
      },
      "outputs": [],
      "source": []
    },
    {
      "cell_type": "code",
      "execution_count": null,
      "metadata": {
        "id": "qSVZ2ytDVUSt"
      },
      "outputs": [],
      "source": [],
      "id": "qSVZ2ytDVUSt"
    }
  ],
  "metadata": {
    "kernelspec": {
      "display_name": "Python 3",
      "name": "python3"
    },
    "language_info": {
      "codemirror_mode": {
        "name": "ipython",
        "version": 3
      },
      "file_extension": ".py",
      "mimetype": "text/x-python",
      "name": "python",
      "nbconvert_exporter": "python",
      "pygments_lexer": "ipython3",
      "version": "3.11.0"
    },
    "colab": {
      "provenance": [],
      "gpuType": "T4"
    },
    "accelerator": "GPU"
  },
  "nbformat": 4,
  "nbformat_minor": 5
}